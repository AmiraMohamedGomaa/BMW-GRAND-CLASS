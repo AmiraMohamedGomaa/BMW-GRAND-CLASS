{
  "nbformat": 4,
  "nbformat_minor": 0,
  "metadata": {
    "colab": {
      "name": "GGP.ipynb",
      "provenance": [],
      "toc_visible": true,
      "authorship_tag": "ABX9TyMyhETyH4N/N119BeTkqRSX",
      "include_colab_link": true
    },
    "kernelspec": {
      "name": "python3",
      "display_name": "Python 3"
    },
    "language_info": {
      "name": "python"
    },
    "accelerator": "GPU"
  },
  "cells": [
    {
      "cell_type": "markdown",
      "metadata": {
        "id": "view-in-github",
        "colab_type": "text"
      },
      "source": [
        "<a href=\"https://colab.research.google.com/github/AmiraMohamedGomaa/BMW-GRAND-CLASS/blob/master/GGP.ipynb\" target=\"_parent\"><img src=\"https://colab.research.google.com/assets/colab-badge.svg\" alt=\"Open In Colab\"/></a>"
      ]
    },
    {
      "cell_type": "code",
      "execution_count": 5,
      "metadata": {
        "colab": {
          "base_uri": "https://localhost:8080/"
        },
        "id": "BEk8uPUjUwDA",
        "outputId": "22a910db-2c74-41d2-e446-cc23e783c5db"
      },
      "outputs": [
        {
          "output_type": "stream",
          "name": "stdout",
          "text": [
            "Mounted at /content/drive\n"
          ]
        }
      ],
      "source": [
        "from google.colab import drive\n",
        "drive.mount('/content/drive')"
      ]
    },
    {
      "cell_type": "code",
      "source": [
        "!unzip \"/content/drive/MyDrive/GP/data.zip\" -d \"/content/drive/MyDrive/GP/dataset\""
      ],
      "metadata": {
        "colab": {
          "base_uri": "https://localhost:8080/"
        },
        "id": "5_7IpW8gVD5h",
        "outputId": "2b04c806-4605-49fc-968f-84aaa1245c33"
      },
      "execution_count": 6,
      "outputs": [
        {
          "output_type": "stream",
          "name": "stdout",
          "text": [
            "Archive:  /content/drive/MyDrive/GP/data.zip\n",
            "replace /content/drive/MyDrive/GP/dataset/data/test/1B_test/22670673 (50).png? [y]es, [n]o, [A]ll, [N]one, [r]ename: y\n",
            " extracting: /content/drive/MyDrive/GP/dataset/data/test/1B_test/22670673 (50).png  \n",
            "replace /content/drive/MyDrive/GP/dataset/data/test/1B_test/22670673 (51).png? [y]es, [n]o, [A]ll, [N]one, [r]ename: y\n",
            "  inflating: /content/drive/MyDrive/GP/dataset/data/test/1B_test/22670673 (51).png  \n",
            "replace /content/drive/MyDrive/GP/dataset/data/test/1B_test/22670673 (52).png? [y]es, [n]o, [A]ll, [N]one, [r]ename: "
          ]
        }
      ]
    },
    {
      "cell_type": "code",
      "source": [
        "#!rm -rf <BC-dataset>\n",
        "\n",
        "import warnings\n",
        "import os\n",
        "warnings.filterwarnings('ignore')\n",
        "# Get all the paths\n",
        "data_dir_list = os.listdir('/content/drive/MyDrive/GP/dataset/data/train')\n",
        "print(data_dir_list)\n",
        "path, dirs, files = next(os.walk(\"/content/drive/MyDrive/GP/dataset/data/train\"))\n",
        "file_count = len(files)\n",
        "# print(file_count)"
      ],
      "metadata": {
        "colab": {
          "base_uri": "https://localhost:8080/"
        },
        "id": "lrpiqXGAWFdU",
        "outputId": "f3a98cda-5c19-4cd0-ede3-aae6092864a6"
      },
      "execution_count": 7,
      "outputs": [
        {
          "output_type": "stream",
          "name": "stdout",
          "text": [
            "['1B_train', '1M_train', '2B_train', '2M_train', '3B_train', '3M_train', '4B_train', '4M_train']\n"
          ]
        }
      ]
    },
    {
      "cell_type": "code",
      "source": [
        "!rm -rf <BC-dataset>\n",
        "# Make new base directory\n",
        "original_dataset_dir = '/content/drive/MyDrive/GP/dataset/data'\n",
        "base_dir = '/content/drive/MyDrive/GP/dataset/BC3-dataset'\n",
        "os.mkdir(base_dir)"
      ],
      "metadata": {
        "colab": {
          "base_uri": "https://localhost:8080/"
        },
        "id": "MkskptmVW1XQ",
        "outputId": "c78fa06f-b969-4a21-ddfe-4654fb7adde4"
      },
      "execution_count": 9,
      "outputs": [
        {
          "output_type": "stream",
          "name": "stdout",
          "text": [
            "/bin/bash: -c: line 0: syntax error near unexpected token `newline'\n",
            "/bin/bash: -c: line 0: `rm -rf <BC-dataset>'\n"
          ]
        }
      ]
    },
    {
      "cell_type": "code",
      "source": [
        "#create two folders (train and validation)\n",
        "train_dir = os.path.join(base_dir, 'train')\n",
        "os.mkdir(train_dir)\n",
        "\n",
        "validation_dir = os.path.join(base_dir, 'validation')\n",
        "os.mkdir(validation_dir)\n",
        "\n",
        "#Under train folder create five folders \n",
        "# (cloud, folly, rainy, shine, sunrise)\n",
        "\n",
        "train_cloud_dir = os.path.join(train_dir, '1B_train')\n",
        "os.mkdir(train_cloud_dir)\n",
        "\n",
        "train_foggy_dir = os.path.join(train_dir, '1M_train')\n",
        "os.mkdir(train_foggy_dir)\n",
        "\n",
        "train_rainy_dir = os.path.join(train_dir, '2B_train')\n",
        "os.mkdir(train_rainy_dir)\n",
        "\n",
        "train_shine_dir = os.path.join(train_dir, '2M_train')\n",
        "os.mkdir(train_shine_dir)\n",
        "\n",
        "train_sunrise_dir = os.path.join(train_dir, '3B_train')\n",
        "os.mkdir(train_sunrise_dir)\n",
        "\n",
        "train_rainy_dir = os.path.join(train_dir, '3M_train')\n",
        "os.mkdir(train_rainy_dir)\n",
        "\n",
        "train_shine_dir = os.path.join(train_dir, '4B_train')\n",
        "os.mkdir(train_shine_dir)\n",
        "\n",
        "train_sunrise_dir = os.path.join(train_dir, '4M_train')\n",
        "os.mkdir(train_sunrise_dir)\n",
        "\n",
        "#Under validation folder create five folders \n",
        "# (cloud, folly, rainy, shine, sunrise)\n",
        "validation_cloud_dir = os.path.join(validation_dir, '1B_train')\n",
        "os.mkdir(validation_cloud_dir)\n",
        "\n",
        "validation_foggy_dir = os.path.join(validation_dir, '1M_train')\n",
        "os.mkdir(validation_foggy_dir)\n",
        "\n",
        "validation_rainy_dir = os.path.join(validation_dir, '2B_train')\n",
        "os.mkdir(validation_rainy_dir)\n",
        "\n",
        "validation_shine_dir = os.path.join(validation_dir, '2M_train')\n",
        "os.mkdir(validation_shine_dir)\n",
        "\n",
        "validation_sunrise_dir = os.path.join(validation_dir, '3B_train')\n",
        "os.mkdir(validation_sunrise_dir)\n",
        "\n",
        "validation_rainy_dir = os.path.join(validation_dir, '3M_train')\n",
        "os.mkdir(validation_rainy_dir)\n",
        "\n",
        "validation_shine_dir = os.path.join(validation_dir, '4B_train')\n",
        "os.mkdir(validation_shine_dir)\n",
        "\n",
        "validation_sunrise_dir = os.path.join(validation_dir, '4M_train')\n",
        "os.mkdir(validation_sunrise_dir)\n"
      ],
      "metadata": {
        "id": "G1tq-LYfXwN8"
      },
      "execution_count": 10,
      "outputs": []
    },
    {
      "cell_type": "code",
      "source": [
        "import random\n",
        "def split_data(SOURCE, TRAINING, VALIDATION, SPLIT_SIZE):\n",
        "    files = []\n",
        "    for filename in os.listdir(SOURCE):\n",
        "        file = SOURCE + filename\n",
        "        if os.path.getsize(file) > 0:\n",
        "            files.append(filename)\n",
        "        else:\n",
        "            print(filename + \" is zero length, so ignoring.\")\n",
        "\n",
        "    training_length = int(len(files) * SPLIT_SIZE)\n",
        "    valid_length = int(len(files) - training_length)\n",
        "    shuffled_set = random.sample(files, len(files))\n",
        "    training_set = shuffled_set[0:training_length]\n",
        "    valid_set = shuffled_set[training_length:]\n",
        "\n",
        "    for filename in training_set:\n",
        "        this_file = SOURCE + filename\n",
        "        destination = TRAINING + filename\n",
        "        copyfile(this_file, destination)\n",
        "\n",
        "    for filename in valid_set:\n",
        "        this_file = SOURCE + filename\n",
        "        destination = VALIDATION + filename\n",
        "        copyfile(this_file, destination)"
      ],
      "metadata": {
        "id": "2bZTihpTZn6t"
      },
      "execution_count": 11,
      "outputs": []
    },
    {
      "cell_type": "code",
      "source": [
        "B1_SOURCE_DIR = '/content/drive/MyDrive/GP/dataset/data/train/1B_train/'\n",
        "TRAINING_B1_DIR = '/content/drive/MyDrive/GP/dataset/BC2-dataset/train/1B_train/'\n",
        "VALID_B1_DIR = '/content/drive/MyDrive/GP/dataset/BC2-dataset/validation/1B_train/'\n",
        "\n",
        "M1_SOURCE_DIR = '/content/drive/MyDrive/GP/dataset/data/train/1M_train/'\n",
        "TRAINING_M1_DIR = '/content/drive/MyDrive/GP/dataset/BC2-dataset/train/1M_train/'\n",
        "VALID_M1_DIR = '/content/drive/MyDrive/GP/dataset/BC2-dataset/validation/1M_train/'\n",
        "\n",
        "B2_SOURCE_DIR = '/content/drive/MyDrive/GP/dataset/data/train/2B_train/'\n",
        "TRAINING_B2_DIR = '/content/drive/MyDrive/GP/dataset/BC2-dataset/train/2B_train/'\n",
        "VALID_B2_DIR = '/content/drive/MyDrive/GP/dataset/BC2-dataset/validation/2B_train/'\n",
        "\n",
        "M2_SOURCE_DIR = '/content/drive/MyDrive/GP/dataset/data/train/2M_train/'\n",
        "TRAINING_M2_DIR = '/content/drive/MyDrive/GP/dataset/BC2-dataset/train/2M_train/'\n",
        "VALID_M2_DIR = '/content/drive/MyDrive/GP/dataset/BC2-dataset/validation/2M_train/'\n",
        "\n",
        "B3_SOURCE_DIR = '/content/drive/MyDrive/GP/dataset/data/train/3B_train/'\n",
        "TRAINING_B3_DIR = '/content/drive/MyDrive/GP/dataset/BC2-dataset/train/3B_train/'\n",
        "VALID_B3_DIR = '/content/drive/MyDrive/GP/dataset/BC2-dataset/validation/3B_train/'\n",
        "\n",
        "M3_SOURCE_DIR = '/content/drive/MyDrive/GP/dataset/data/train/3M_train/'\n",
        "TRAINING_M3_DIR = '/content/drive/MyDrive/GP/dataset/BC2-dataset/train/3M_train/'\n",
        "VALID_M3_DIR = '/content/drive/MyDrive/GP/dataset/BC2-dataset/validation/3M_train/'\n",
        "\n",
        "B4_SOURCE_DIR = '/content/drive/MyDrive/GP/dataset/data/train/4B_train/'\n",
        "TRAINING_B4_DIR = '/content/drive/MyDrive/GP/dataset/BC2-dataset/train/4B_train/'\n",
        "VALID_B4_DIR = '/content/drive/MyDrive/GP/dataset/BC2-dataset/validation/4B_train/'\n",
        "\n",
        "M4_SOURCE_DIR = '/content/drive/MyDrive/GP/dataset/data/train/4M_train/'\n",
        "TRAINING_M4_DIR = '/content/drive/MyDrive/GP/dataset/BC2-dataset/train/4M_train/'\n",
        "VALID_M4_DIR = '/content/drive/MyDrive/GP/dataset/BC2-dataset/validation/4M_train/'\n",
        "\n"
      ],
      "metadata": {
        "id": "XXFvy0hQaDGO"
      },
      "execution_count": 12,
      "outputs": []
    },
    {
      "cell_type": "code",
      "source": [
        "import os\n",
        "import random\n",
        "from shutil import copyfile\n",
        "\n",
        "split_size = .85\n",
        "\n",
        "split_data(B1_SOURCE_DIR, TRAINING_B1_DIR, VALID_B1_DIR, split_size)\n",
        "split_data(M1_SOURCE_DIR, TRAINING_M1_DIR, VALID_M1_DIR, split_size)\n",
        "split_data(B2_SOURCE_DIR, TRAINING_B2_DIR, VALID_B2_DIR, split_size)\n",
        "split_data(M2_SOURCE_DIR, TRAINING_M2_DIR, VALID_M2_DIR, split_size)\n",
        "split_data(B3_SOURCE_DIR, TRAINING_B3_DIR, VALID_B3_DIR, split_size)\n",
        "\n",
        "split_data(M3_SOURCE_DIR, TRAINING_M3_DIR, VALID_M3_DIR, split_size)\n",
        "split_data(B4_SOURCE_DIR, TRAINING_B4_DIR, VALID_B4_DIR, split_size)\n",
        "split_data(M4_SOURCE_DIR, TRAINING_M4_DIR, VALID_M4_DIR, split_size)"
      ],
      "metadata": {
        "id": "ldpHl0zscVvx"
      },
      "execution_count": 13,
      "outputs": []
    },
    {
      "cell_type": "code",
      "source": [
        "import matplotlib.pyplot as plt\n",
        "import seaborn as sns\n",
        "from matplotlib.image import imread\n",
        "import pathlib\n",
        "\n",
        "image_folder = ['1B_train', '1M_train', '2B_train', '2M_train', '3B_train','3M_train','4B_train','4M_train']\n",
        "nimgs = {}\n",
        "for i in image_folder:\n",
        "    nimages = len(os.listdir('/content/drive/MyDrive/GP/dataset/BC2-dataset/train/'+i+'/'))\n",
        "    nimgs[i]=nimages\n",
        "plt.figure(figsize=(9, 6))\n",
        "plt.bar(range(len(nimgs)), list(nimgs.values()), align='center')\n",
        "plt.xticks(range(len(nimgs)), list(nimgs.keys()))\n",
        "plt.title('Distribution of different classes in Training Dataset')\n",
        "plt.show()"
      ],
      "metadata": {
        "colab": {
          "base_uri": "https://localhost:8080/",
          "height": 391
        },
        "id": "g2pKcFQge_eo",
        "outputId": "6997e186-3805-4280-de15-1a6803c776af"
      },
      "execution_count": 14,
      "outputs": [
        {
          "output_type": "display_data",
          "data": {
            "text/plain": [
              "<Figure size 648x432 with 1 Axes>"
            ],
            "image/png": "[encoded data removed]"
          },
          "metadata": {
            "needs_background": "light"
          }
        }
      ]
    },
    {
      "cell_type": "code",
      "source": [
        "for i in ['1B_train', '1M_train', '2B_train', '2M_train', '3B_train','3M_train','4B_train','4M_train']:\n",
        "    print('Training {} images are: '.format(i)+str(len(os.listdir('/content/drive/MyDrive/GP/dataset/BC2-dataset/train/'+i+'/'))))"
      ],
      "metadata": {
        "colab": {
          "base_uri": "https://localhost:8080/"
        },
        "id": "SMbsTqHVkWcf",
        "outputId": "614b5d6d-bb21-4761-a2e9-738187bd17ac"
      },
      "execution_count": 15,
      "outputs": [
        {
          "output_type": "stream",
          "name": "stdout",
          "text": [
            "Training 1B_train images are: 590\n",
            "Training 1M_train images are: 1474\n",
            "Training 2B_train images are: 197\n",
            "Training 2M_train images are: 1606\n",
            "Training 3B_train images are: 640\n",
            "Training 3M_train images are: 396\n",
            "Training 4B_train images are: 293\n",
            "Training 4M_train images are: 49\n"
          ]
        }
      ]
    },
    {
      "cell_type": "code",
      "source": [
        "image_folder = ['1B_train', '1M_train', '2B_train', '2M_train', '3B_train','3M_train','4B_train','4M_train']\n",
        "nimgs = {}\n",
        "for i in image_folder:\n",
        "    nimages = len(os.listdir('/content/drive/MyDrive/GP/dataset/BC2-dataset/validation/'+i+'/'))\n",
        "    nimgs[i]=nimages\n",
        "plt.figure(figsize=(9, 6))\n",
        "plt.bar(range(len(nimgs)), list(nimgs.values()), align='center')\n",
        "plt.xticks(range(len(nimgs)), list(nimgs.keys()))\n",
        "plt.title('Distribution of different classes in Validation Dataset')\n",
        "plt.show()"
      ],
      "metadata": {
        "colab": {
          "base_uri": "https://localhost:8080/",
          "height": 391
        },
        "id": "NZNcq8n6lAGr",
        "outputId": "f3fab78a-f0d1-42d6-ce0d-bf78e9877834"
      },
      "execution_count": 36,
      "outputs": [
        {
          "output_type": "display_data",
          "data": {
            "text/plain": [
              "<Figure size 648x432 with 1 Axes>"
            ],
            "image/png": "[encoded data removed]"
          },
          "metadata": {
            "needs_background": "light"
          }
        }
      ]
    },
    {
      "cell_type": "code",
      "source": [
        "for i in ['1B_train', '1M_train', '2B_train', '2M_train', '3B_train','3M_train','4B_train','4M_train']:\n",
        "    print('Training {} images are: '.format(i)+str(len(os.listdir('/content/drive/MyDrive/GP/dataset/BC2-dataset/validation/'+i+'/'))))"
      ],
      "metadata": {
        "colab": {
          "base_uri": "https://localhost:8080/"
        },
        "id": "wShaB0chlfJr",
        "outputId": "6ca30877-3b1e-4860-9969-86d5b7e1718c"
      },
      "execution_count": 37,
      "outputs": [
        {
          "output_type": "stream",
          "name": "stdout",
          "text": [
            "Training 1B_train images are: 91\n",
            "Training 1M_train images are: 227\n",
            "Training 2B_train images are: 31\n",
            "Training 2M_train images are: 249\n",
            "Training 3B_train images are: 99\n",
            "Training 3M_train images are: 61\n",
            "Training 4B_train images are: 46\n",
            "Training 4M_train images are: 8\n"
          ]
        }
      ]
    },
    {
      "cell_type": "code",
      "source": [
        "from tensorflow.keras.optimizers import Adam\n",
        "from tensorflow.keras.preprocessing.image import ImageDataGenerator\n",
        "from tensorflow.keras.layers import Conv2D, MaxPooling2D, Flatten, Dense, Dropout\n",
        "from tensorflow.keras.models import Sequential\n",
        "from tensorflow.keras.callbacks import EarlyStopping, ModelCheckpoint"
      ],
      "metadata": {
        "id": "P0gDfZ-fl0AO"
      },
      "execution_count": 16,
      "outputs": []
    },
    {
      "cell_type": "code",
      "source": [
        "img_width=224; img_height=224\n",
        "batch_size=16"
      ],
      "metadata": {
        "id": "ZYoIuaEBl5C2"
      },
      "execution_count": 17,
      "outputs": []
    },
    {
      "cell_type": "code",
      "source": [
        "#data augmentation\n",
        "TRAINING_DIR = '/content/drive/MyDrive/GP/dataset/BC2-dataset/train/'\n",
        "\n",
        "train_datagen = ImageDataGenerator(rescale = 0.0,\n",
        "                                   rotation_range=0,\n",
        "                                   zoom_range=0.4,\n",
        "                                   horizontal_flip=False)\n",
        "\n",
        "train_generator = train_datagen.flow_from_directory(TRAINING_DIR,\n",
        "                                                    batch_size=batch_size,\n",
        "                                                    class_mode='categorical',\n",
        "                                                    target_size=(img_height, img_width))\n",
        "\n",
        "VALIDATION_DIR = '/content/drive/MyDrive/GP/dataset/BC2-dataset/validation/'\n",
        "\n",
        "validation_datagen = ImageDataGenerator(rescale = 0.0)\n",
        "\n",
        "validation_generator = validation_datagen.flow_from_directory(VALIDATION_DIR,\n",
        "                                                              batch_size=batch_size,\n",
        "                                                              class_mode='categorical',\n",
        "                                                              target_size=(img_height, img_width)\n",
        "                                                             )"
      ],
      "metadata": {
        "colab": {
          "base_uri": "https://localhost:8080/"
        },
        "id": "YcohsQKtqgUW",
        "outputId": "e458432e-ecc4-4fa1-f975-8a6a570b3d1a"
      },
      "execution_count": 18,
      "outputs": [
        {
          "output_type": "stream",
          "name": "stdout",
          "text": [
            "Found 5245 images belonging to 8 classes.\n",
            "Found 1488 images belonging to 8 classes.\n"
          ]
        }
      ]
    },
    {
      "cell_type": "code",
      "source": [
        "callbacks = EarlyStopping(monitor='val_loss', patience=5, verbose=1, mode='auto')\n",
        "# autosave best Model\n",
        "best_model_file = '/content/CNN_aug_best_weights.h8'\n",
        "best_model = ModelCheckpoint(best_model_file, monitor='val_acc', verbose = 1, save_best_only = True)"
      ],
      "metadata": {
        "id": "0-iEGYcSrMAY"
      },
      "execution_count": 19,
      "outputs": []
    },
    {
      "cell_type": "code",
      "source": [
        "model = Sequential([\n",
        "    Conv2D(16, (3, 3), activation='relu', input_shape=(img_height, img_width, 3)), MaxPooling2D(2, 2),\n",
        "    Conv2D(32, (3, 3), activation='relu'), MaxPooling2D(2, 2),\n",
        "    Conv2D(64, (3, 3), activation='relu'),\n",
        "    Conv2D(64, (3, 3), activation='relu'),\n",
        "    MaxPooling2D(2, 2),\n",
        "    Conv2D(128, (3, 3), activation='relu'),\n",
        "    Conv2D(128, (3, 3), activation='relu'),\n",
        "    MaxPooling2D(2, 2),\n",
        "    Conv2D(256, (3, 3), activation='relu'),\n",
        "    Conv2D(256, (3, 3), activation='relu'),\n",
        "    Conv2D(256, (3, 3), activation='relu'),\n",
        "    MaxPooling2D(2, 2),\n",
        "    Flatten(),\n",
        "    Dense(512, activation='relu'),\n",
        "    Dense(512, activation='relu'),\n",
        "    Dense(8, activation='softmax')\n",
        "])\n",
        "model.summary()"
      ],
      "metadata": {
        "colab": {
          "base_uri": "https://localhost:8080/"
        },
        "id": "Nb1GRoENrSEs",
        "outputId": "e47c59f9-6c85-42ae-8c41-820badc53892"
      },
      "execution_count": 20,
      "outputs": [
        {
          "output_type": "stream",
          "name": "stdout",
          "text": [
            "Model: \"sequential\"\n",
            "_________________________________________________________________\n",
            " Layer (type)                Output Shape              Param #   \n",
            "=================================================================\n",
            " conv2d (Conv2D)             (None, 222, 222, 16)      448       \n",
            "                                                                 \n",
            " max_pooling2d (MaxPooling2D  (None, 111, 111, 16)     0         \n",
            " )                                                               \n",
            "                                                                 \n",
            " conv2d_1 (Conv2D)           (None, 109, 109, 32)      4640      \n",
            "                                                                 \n",
            " max_pooling2d_1 (MaxPooling  (None, 54, 54, 32)       0         \n",
            " 2D)                                                             \n",
            "                                                                 \n",
            " conv2d_2 (Conv2D)           (None, 52, 52, 64)        18496     \n",
            "                                                                 \n",
            " conv2d_3 (Conv2D)           (None, 50, 50, 64)        36928     \n",
            "                                                                 \n",
            " max_pooling2d_2 (MaxPooling  (None, 25, 25, 64)       0         \n",
            " 2D)                                                             \n",
            "                                                                 \n",
            " conv2d_4 (Conv2D)           (None, 23, 23, 128)       73856     \n",
            "                                                                 \n",
            " conv2d_5 (Conv2D)           (None, 21, 21, 128)       147584    \n",
            "                                                                 \n",
            " max_pooling2d_3 (MaxPooling  (None, 10, 10, 128)      0         \n",
            " 2D)                                                             \n",
            "                                                                 \n",
            " conv2d_6 (Conv2D)           (None, 8, 8, 256)         295168    \n",
            "                                                                 \n",
            " conv2d_7 (Conv2D)           (None, 6, 6, 256)         590080    \n",
            "                                                                 \n",
            " conv2d_8 (Conv2D)           (None, 4, 4, 256)         590080    \n",
            "                                                                 \n",
            " max_pooling2d_4 (MaxPooling  (None, 2, 2, 256)        0         \n",
            " 2D)                                                             \n",
            "                                                                 \n",
            " flatten (Flatten)           (None, 1024)              0         \n",
            "                                                                 \n",
            " dense (Dense)               (None, 512)               524800    \n",
            "                                                                 \n",
            " dense_1 (Dense)             (None, 512)               262656    \n",
            "                                                                 \n",
            " dense_2 (Dense)             (None, 8)                 4104      \n",
            "                                                                 \n",
            "=================================================================\n",
            "Total params: 2,548,840\n",
            "Trainable params: 2,548,840\n",
            "Non-trainable params: 0\n",
            "_________________________________________________________________\n"
          ]
        }
      ]
    },
    {
      "cell_type": "code",
      "source": [
        "model.compile(optimizer='Adam', \n",
        "              loss='categorical_crossentropy', \n",
        "              metrics =['accuracy'])\n"
      ],
      "metadata": {
        "id": "L20orLhrrdpy"
      },
      "execution_count": 21,
      "outputs": []
    },
    {
      "cell_type": "code",
      "source": [
        "history = model.fit_generator(train_generator,\n",
        "                              epochs=30,\n",
        "                              verbose=1,\n",
        "                              validation_data=validation_generator,\n",
        "                              callbacks = [best_model]\n",
        "                              )"
      ],
      "metadata": {
        "colab": {
          "base_uri": "https://localhost:8080/"
        },
        "id": "6-mtbcSyrjNT",
        "outputId": "535f6204-7c86-4fe0-d100-48aec585ead0"
      },
      "execution_count": 22,
      "outputs": [
        {
          "output_type": "stream",
          "name": "stdout",
          "text": [
            "Epoch 1/30\n",
            "328/328 [==============================] - ETA: 0s - loss: 1.7632 - accuracy: 0.2927WARNING:tensorflow:Can save best model only with val_acc available, skipping.\n",
            "328/328 [==============================] - 298s 875ms/step - loss: 1.7632 - accuracy: 0.2927 - val_loss: 1.6771 - val_accuracy: 0.3024\n",
            "Epoch 2/30\n",
            "328/328 [==============================] - ETA: 0s - loss: 1.6312 - accuracy: 0.3142WARNING:tensorflow:Can save best model only with val_acc available, skipping.\n",
            "328/328 [==============================] - 87s 266ms/step - loss: 1.6312 - accuracy: 0.3142 - val_loss: 1.6296 - val_accuracy: 0.3078\n",
            "Epoch 3/30\n",
            "328/328 [==============================] - ETA: 0s - loss: 1.5895 - accuracy: 0.3274WARNING:tensorflow:Can save best model only with val_acc available, skipping.\n",
            "328/328 [==============================] - 88s 269ms/step - loss: 1.5895 - accuracy: 0.3274 - val_loss: 1.5618 - val_accuracy: 0.3273\n",
            "Epoch 4/30\n",
            "328/328 [==============================] - ETA: 0s - loss: 1.5742 - accuracy: 0.3338WARNING:tensorflow:Can save best model only with val_acc available, skipping.\n",
            "328/328 [==============================] - 88s 267ms/step - loss: 1.5742 - accuracy: 0.3338 - val_loss: 1.5059 - val_accuracy: 0.3474\n",
            "Epoch 5/30\n",
            "328/328 [==============================] - ETA: 0s - loss: 1.5446 - accuracy: 0.3304WARNING:tensorflow:Can save best model only with val_acc available, skipping.\n",
            "328/328 [==============================] - 88s 270ms/step - loss: 1.5446 - accuracy: 0.3304 - val_loss: 1.4943 - val_accuracy: 0.3454\n",
            "Epoch 6/30\n",
            "328/328 [==============================] - ETA: 0s - loss: 1.5321 - accuracy: 0.3424WARNING:tensorflow:Can save best model only with val_acc available, skipping.\n",
            "328/328 [==============================] - 88s 267ms/step - loss: 1.5321 - accuracy: 0.3424 - val_loss: 1.4794 - val_accuracy: 0.3515\n",
            "Epoch 7/30\n",
            "328/328 [==============================] - ETA: 0s - loss: 1.5221 - accuracy: 0.3478WARNING:tensorflow:Can save best model only with val_acc available, skipping.\n",
            "328/328 [==============================] - 87s 265ms/step - loss: 1.5221 - accuracy: 0.3478 - val_loss: 1.5252 - val_accuracy: 0.3340\n",
            "Epoch 8/30\n",
            "328/328 [==============================] - ETA: 0s - loss: 1.5151 - accuracy: 0.3529WARNING:tensorflow:Can save best model only with val_acc available, skipping.\n",
            "328/328 [==============================] - 87s 264ms/step - loss: 1.5151 - accuracy: 0.3529 - val_loss: 1.4541 - val_accuracy: 0.3878\n",
            "Epoch 9/30\n",
            "328/328 [==============================] - ETA: 0s - loss: 1.4856 - accuracy: 0.3701WARNING:tensorflow:Can save best model only with val_acc available, skipping.\n",
            "328/328 [==============================] - 86s 263ms/step - loss: 1.4856 - accuracy: 0.3701 - val_loss: 1.4690 - val_accuracy: 0.3978\n",
            "Epoch 10/30\n",
            "328/328 [==============================] - ETA: 0s - loss: 1.4462 - accuracy: 0.4011WARNING:tensorflow:Can save best model only with val_acc available, skipping.\n",
            "328/328 [==============================] - 88s 268ms/step - loss: 1.4462 - accuracy: 0.4011 - val_loss: 1.3952 - val_accuracy: 0.4194\n",
            "Epoch 11/30\n",
            "328/328 [==============================] - ETA: 0s - loss: 1.4015 - accuracy: 0.4173WARNING:tensorflow:Can save best model only with val_acc available, skipping.\n",
            "328/328 [==============================] - 87s 266ms/step - loss: 1.4015 - accuracy: 0.4173 - val_loss: 1.3416 - val_accuracy: 0.4214\n",
            "Epoch 12/30\n",
            "328/328 [==============================] - ETA: 0s - loss: 1.3308 - accuracy: 0.4503WARNING:tensorflow:Can save best model only with val_acc available, skipping.\n",
            "328/328 [==============================] - 87s 265ms/step - loss: 1.3308 - accuracy: 0.4503 - val_loss: 1.2059 - val_accuracy: 0.5094\n",
            "Epoch 13/30\n",
            "328/328 [==============================] - ETA: 0s - loss: 1.2679 - accuracy: 0.4793WARNING:tensorflow:Can save best model only with val_acc available, skipping.\n",
            "328/328 [==============================] - 88s 269ms/step - loss: 1.2679 - accuracy: 0.4793 - val_loss: 1.1276 - val_accuracy: 0.5403\n",
            "Epoch 14/30\n",
            "328/328 [==============================] - ETA: 0s - loss: 1.2268 - accuracy: 0.5058WARNING:tensorflow:Can save best model only with val_acc available, skipping.\n",
            "328/328 [==============================] - 88s 270ms/step - loss: 1.2268 - accuracy: 0.5058 - val_loss: 0.9972 - val_accuracy: 0.6001\n",
            "Epoch 15/30\n",
            "328/328 [==============================] - ETA: 0s - loss: 1.1300 - accuracy: 0.5500WARNING:tensorflow:Can save best model only with val_acc available, skipping.\n",
            "328/328 [==============================] - 88s 269ms/step - loss: 1.1300 - accuracy: 0.5500 - val_loss: 1.0923 - val_accuracy: 0.5558\n",
            "Epoch 16/30\n",
            "328/328 [==============================] - ETA: 0s - loss: 1.0583 - accuracy: 0.5765WARNING:tensorflow:Can save best model only with val_acc available, skipping.\n",
            "328/328 [==============================] - 87s 267ms/step - loss: 1.0583 - accuracy: 0.5765 - val_loss: 0.8395 - val_accuracy: 0.6875\n",
            "Epoch 17/30\n",
            "328/328 [==============================] - ETA: 0s - loss: 0.9573 - accuracy: 0.6183WARNING:tensorflow:Can save best model only with val_acc available, skipping.\n",
            "328/328 [==============================] - 88s 267ms/step - loss: 0.9573 - accuracy: 0.6183 - val_loss: 0.7428 - val_accuracy: 0.6942\n",
            "Epoch 18/30\n",
            "328/328 [==============================] - ETA: 0s - loss: 0.8855 - accuracy: 0.6540WARNING:tensorflow:Can save best model only with val_acc available, skipping.\n",
            "328/328 [==============================] - 86s 263ms/step - loss: 0.8855 - accuracy: 0.6540 - val_loss: 0.7061 - val_accuracy: 0.7352\n",
            "Epoch 19/30\n",
            "328/328 [==============================] - ETA: 0s - loss: 0.8415 - accuracy: 0.6757WARNING:tensorflow:Can save best model only with val_acc available, skipping.\n",
            "328/328 [==============================] - 88s 268ms/step - loss: 0.8415 - accuracy: 0.6757 - val_loss: 0.6303 - val_accuracy: 0.7540\n",
            "Epoch 20/30\n",
            "328/328 [==============================] - ETA: 0s - loss: 0.7830 - accuracy: 0.6944WARNING:tensorflow:Can save best model only with val_acc available, skipping.\n",
            "328/328 [==============================] - 87s 266ms/step - loss: 0.7830 - accuracy: 0.6944 - val_loss: 0.5850 - val_accuracy: 0.7702\n",
            "Epoch 21/30\n",
            "328/328 [==============================] - ETA: 0s - loss: 0.7280 - accuracy: 0.7104WARNING:tensorflow:Can save best model only with val_acc available, skipping.\n",
            "328/328 [==============================] - 86s 264ms/step - loss: 0.7280 - accuracy: 0.7104 - val_loss: 0.5208 - val_accuracy: 0.8038\n",
            "Epoch 22/30\n",
            "328/328 [==============================] - ETA: 0s - loss: 0.6738 - accuracy: 0.7375WARNING:tensorflow:Can save best model only with val_acc available, skipping.\n",
            "328/328 [==============================] - 86s 262ms/step - loss: 0.6738 - accuracy: 0.7375 - val_loss: 0.4510 - val_accuracy: 0.8340\n",
            "Epoch 23/30\n",
            "328/328 [==============================] - ETA: 0s - loss: 0.6222 - accuracy: 0.7531WARNING:tensorflow:Can save best model only with val_acc available, skipping.\n",
            "328/328 [==============================] - 86s 262ms/step - loss: 0.6222 - accuracy: 0.7531 - val_loss: 0.4031 - val_accuracy: 0.8340\n",
            "Epoch 24/30\n",
            "328/328 [==============================] - ETA: 0s - loss: 0.5905 - accuracy: 0.7752WARNING:tensorflow:Can save best model only with val_acc available, skipping.\n",
            "328/328 [==============================] - 87s 264ms/step - loss: 0.5905 - accuracy: 0.7752 - val_loss: 0.3729 - val_accuracy: 0.8575\n",
            "Epoch 25/30\n",
            "328/328 [==============================] - ETA: 0s - loss: 0.5696 - accuracy: 0.7859WARNING:tensorflow:Can save best model only with val_acc available, skipping.\n",
            "328/328 [==============================] - 87s 265ms/step - loss: 0.5696 - accuracy: 0.7859 - val_loss: 0.3669 - val_accuracy: 0.8629\n",
            "Epoch 26/30\n",
            "328/328 [==============================] - ETA: 0s - loss: 0.5516 - accuracy: 0.7926WARNING:tensorflow:Can save best model only with val_acc available, skipping.\n",
            "328/328 [==============================] - 86s 264ms/step - loss: 0.5516 - accuracy: 0.7926 - val_loss: 0.2733 - val_accuracy: 0.9073\n",
            "Epoch 27/30\n",
            "328/328 [==============================] - ETA: 0s - loss: 0.4964 - accuracy: 0.8126WARNING:tensorflow:Can save best model only with val_acc available, skipping.\n",
            "328/328 [==============================] - 87s 265ms/step - loss: 0.4964 - accuracy: 0.8126 - val_loss: 0.2767 - val_accuracy: 0.9012\n",
            "Epoch 28/30\n",
            "328/328 [==============================] - ETA: 0s - loss: 0.5013 - accuracy: 0.8040WARNING:tensorflow:Can save best model only with val_acc available, skipping.\n",
            "328/328 [==============================] - 86s 262ms/step - loss: 0.5013 - accuracy: 0.8040 - val_loss: 0.2802 - val_accuracy: 0.9046\n",
            "Epoch 29/30\n",
            "328/328 [==============================] - ETA: 0s - loss: 0.4642 - accuracy: 0.8271WARNING:tensorflow:Can save best model only with val_acc available, skipping.\n",
            "328/328 [==============================] - 86s 262ms/step - loss: 0.4642 - accuracy: 0.8271 - val_loss: 0.2392 - val_accuracy: 0.9194\n",
            "Epoch 30/30\n",
            "328/328 [==============================] - ETA: 0s - loss: 0.4461 - accuracy: 0.8339WARNING:tensorflow:Can save best model only with val_acc available, skipping.\n",
            "328/328 [==============================] - 87s 265ms/step - loss: 0.4461 - accuracy: 0.8339 - val_loss: 0.2931 - val_accuracy: 0.8905\n"
          ]
        }
      ]
    },
    {
      "cell_type": "code",
      "source": [
        "acc=history.history['accuracy']\n",
        "val_acc=history.history['val_accuracy']\n",
        "loss=history.history['loss']\n",
        "val_loss=history.history['val_loss']\n",
        "\n",
        "epochs=range(len(acc))\n",
        "\n",
        "fig = plt.figure(figsize=(14,7))\n",
        "plt.plot(epochs, acc, 'r', label=\"Training Accuracy\")\n",
        "plt.plot(epochs, val_acc, 'b', label=\"Validation Accuracy\")\n",
        "plt.xlabel('Epoch')\n",
        "plt.ylabel('Accuracy')\n",
        "plt.title('Training and validation accuracy')\n",
        "plt.legend(loc='lower right')\n",
        "plt.show()"
      ],
      "metadata": {
        "colab": {
          "base_uri": "https://localhost:8080/",
          "height": 458
        },
        "id": "krksmcIa9v51",
        "outputId": "77846388-4060-424b-ada6-be5c3652b5f8"
      },
      "execution_count": 23,
      "outputs": [
        {
          "output_type": "display_data",
          "data": {
            "text/plain": [
              "<Figure size 1008x504 with 1 Axes>"
            ],
            "image/png": "[encoded data removed]"
          },
          "metadata": {
            "needs_background": "light"
          }
        }
      ]
    },
    {
      "cell_type": "code",
      "source": [
        "fig2 = plt.figure(figsize=(14,7))\n",
        "plt.plot(epochs, loss, 'r', label=\"Training Loss\")\n",
        "plt.plot(epochs, val_loss, 'b', label=\"Validation Loss\")\n",
        "plt.legend(loc='upper right')\n",
        "plt.xlabel('Epoch')\n",
        "plt.ylabel('Loss')\n",
        "plt.title('Training and validation loss')"
      ],
      "metadata": {
        "colab": {
          "base_uri": "https://localhost:8080/",
          "height": 475
        },
        "id": "F8Byvajm93IM",
        "outputId": "7d347b02-234d-4af5-96db-bb3804374a54"
      },
      "execution_count": 24,
      "outputs": [
        {
          "output_type": "execute_result",
          "data": {
            "text/plain": [
              "Text(0.5, 1.0, 'Training and validation loss')"
            ]
          },
          "metadata": {},
          "execution_count": 24
        },
        {
          "output_type": "display_data",
          "data": {
            "text/plain": [
              "<Figure size 1008x504 with 1 Axes>"
            ],
            "image/png": "[encoded data removed]"
          },
          "metadata": {
            "needs_background": "light"
          }
        }
      ]
    },
    {
      "cell_type": "code",
      "source": [
        "## Test Performance on Test Data\n",
        "import pandas as pd\n",
        "import numpy as np\n",
        "from keras.preprocessing.image import load_img, img_to_array\n",
        "\n",
        "def preprocess_image(path):\n",
        "    img = load_img(path, target_size = (img_height, img_width))\n",
        "    a = img_to_array(img)\n",
        "    a = np.expand_dims(a, axis = 0)\n",
        "    a /= 255.\n",
        "    return a"
      ],
      "metadata": {
        "id": "4yPI8Wq4-zAf"
      },
      "execution_count": 29,
      "outputs": []
    },
    {
      "cell_type": "code",
      "source": [
        "# Read Test Images Dir and their labels\n",
        "test_images_dir = '/content/drive/MyDrive/GP/dataset/data/test/1B_test'\n",
        "test_df = pd.read_csv('/content/drive/MyDrive/GP/dataset/data/test.csv')\n",
        "\n",
        "# put them in a list\n",
        "test_dfToList = test_df['Image_id'].tolist()\n",
        "test_ids = [str(item) for item in test_dfToList]\n",
        "\n",
        "test_images = [test_images_dir+item for item in test_ids]\n",
        "test_preprocessed_images = np.vstack([preprocess_image(fn) for fn in test_images])\n",
        "np.save('/content/test_preproc_CNN.npy', test_preprocessed_images)"
      ],
      "metadata": {
        "colab": {
          "base_uri": "https://localhost:8080/",
          "height": 397
        },
        "id": "As8s5goTByQP",
        "outputId": "6402d07b-96fb-4d6f-a1d3-54805839f2af"
      },
      "execution_count": 34,
      "outputs": [
        {
          "output_type": "error",
          "ename": "FileNotFoundError",
          "evalue": "ignored",
          "traceback": [
            "\u001b[0;31m---------------------------------------------------------------------------\u001b[0m",
            "\u001b[0;31mFileNotFoundError\u001b[0m                         Traceback (most recent call last)",
            "\u001b[0;32m<ipython-input-34-b92951a581b2>\u001b[0m in \u001b[0;36m<module>\u001b[0;34m()\u001b[0m\n\u001b[1;32m      1\u001b[0m \u001b[0;31m# Read Test Images Dir and their labels\u001b[0m\u001b[0;34m\u001b[0m\u001b[0;34m\u001b[0m\u001b[0;34m\u001b[0m\u001b[0m\n\u001b[1;32m      2\u001b[0m \u001b[0mtest_images_dir\u001b[0m \u001b[0;34m=\u001b[0m \u001b[0;34m'/content/drive/MyDrive/GP/dataset/data/test/1B_test'\u001b[0m\u001b[0;34m\u001b[0m\u001b[0;34m\u001b[0m\u001b[0m\n\u001b[0;32m----> 3\u001b[0;31m \u001b[0mtest_df\u001b[0m \u001b[0;34m=\u001b[0m \u001b[0mpd\u001b[0m\u001b[0;34m.\u001b[0m\u001b[0mread_csv\u001b[0m\u001b[0;34m(\u001b[0m\u001b[0;34m'/content/drive/MyDrive/GP/dataset/data/test.csv'\u001b[0m\u001b[0;34m)\u001b[0m\u001b[0;34m\u001b[0m\u001b[0;34m\u001b[0m\u001b[0m\n\u001b[0m\u001b[1;32m      4\u001b[0m \u001b[0;34m\u001b[0m\u001b[0m\n\u001b[1;32m      5\u001b[0m \u001b[0;31m# put them in a list\u001b[0m\u001b[0;34m\u001b[0m\u001b[0;34m\u001b[0m\u001b[0;34m\u001b[0m\u001b[0m\n",
            "\u001b[0;32m/usr/local/lib/python3.7/dist-packages/pandas/util/_decorators.py\u001b[0m in \u001b[0;36mwrapper\u001b[0;34m(*args, **kwargs)\u001b[0m\n\u001b[1;32m    309\u001b[0m                     \u001b[0mstacklevel\u001b[0m\u001b[0;34m=\u001b[0m\u001b[0mstacklevel\u001b[0m\u001b[0;34m,\u001b[0m\u001b[0;34m\u001b[0m\u001b[0;34m\u001b[0m\u001b[0m\n\u001b[1;32m    310\u001b[0m                 )\n\u001b[0;32m--> 311\u001b[0;31m             \u001b[0;32mreturn\u001b[0m \u001b[0mfunc\u001b[0m\u001b[0;34m(\u001b[0m\u001b[0;34m*\u001b[0m\u001b[0margs\u001b[0m\u001b[0;34m,\u001b[0m \u001b[0;34m**\u001b[0m\u001b[0mkwargs\u001b[0m\u001b[0;34m)\u001b[0m\u001b[0;34m\u001b[0m\u001b[0;34m\u001b[0m\u001b[0m\n\u001b[0m\u001b[1;32m    312\u001b[0m \u001b[0;34m\u001b[0m\u001b[0m\n\u001b[1;32m    313\u001b[0m         \u001b[0;32mreturn\u001b[0m \u001b[0mwrapper\u001b[0m\u001b[0;34m\u001b[0m\u001b[0;34m\u001b[0m\u001b[0m\n",
            "\u001b[0;32m/usr/local/lib/python3.7/dist-packages/pandas/io/parsers/readers.py\u001b[0m in \u001b[0;36mread_csv\u001b[0;34m(filepath_or_buffer, sep, delimiter, header, names, index_col, usecols, squeeze, prefix, mangle_dupe_cols, dtype, engine, converters, true_values, false_values, skipinitialspace, skiprows, skipfooter, nrows, na_values, keep_default_na, na_filter, verbose, skip_blank_lines, parse_dates, infer_datetime_format, keep_date_col, date_parser, dayfirst, cache_dates, iterator, chunksize, compression, thousands, decimal, lineterminator, quotechar, quoting, doublequote, escapechar, comment, encoding, encoding_errors, dialect, error_bad_lines, warn_bad_lines, on_bad_lines, delim_whitespace, low_memory, memory_map, float_precision, storage_options)\u001b[0m\n\u001b[1;32m    584\u001b[0m     \u001b[0mkwds\u001b[0m\u001b[0;34m.\u001b[0m\u001b[0mupdate\u001b[0m\u001b[0;34m(\u001b[0m\u001b[0mkwds_defaults\u001b[0m\u001b[0;34m)\u001b[0m\u001b[0;34m\u001b[0m\u001b[0;34m\u001b[0m\u001b[0m\n\u001b[1;32m    585\u001b[0m \u001b[0;34m\u001b[0m\u001b[0m\n\u001b[0;32m--> 586\u001b[0;31m     \u001b[0;32mreturn\u001b[0m \u001b[0m_read\u001b[0m\u001b[0;34m(\u001b[0m\u001b[0mfilepath_or_buffer\u001b[0m\u001b[0;34m,\u001b[0m \u001b[0mkwds\u001b[0m\u001b[0;34m)\u001b[0m\u001b[0;34m\u001b[0m\u001b[0;34m\u001b[0m\u001b[0m\n\u001b[0m\u001b[1;32m    587\u001b[0m \u001b[0;34m\u001b[0m\u001b[0m\n\u001b[1;32m    588\u001b[0m \u001b[0;34m\u001b[0m\u001b[0m\n",
            "\u001b[0;32m/usr/local/lib/python3.7/dist-packages/pandas/io/parsers/readers.py\u001b[0m in \u001b[0;36m_read\u001b[0;34m(filepath_or_buffer, kwds)\u001b[0m\n\u001b[1;32m    480\u001b[0m \u001b[0;34m\u001b[0m\u001b[0m\n\u001b[1;32m    481\u001b[0m     \u001b[0;31m# Create the parser.\u001b[0m\u001b[0;34m\u001b[0m\u001b[0;34m\u001b[0m\u001b[0;34m\u001b[0m\u001b[0m\n\u001b[0;32m--> 482\u001b[0;31m     \u001b[0mparser\u001b[0m \u001b[0;34m=\u001b[0m \u001b[0mTextFileReader\u001b[0m\u001b[0;34m(\u001b[0m\u001b[0mfilepath_or_buffer\u001b[0m\u001b[0;34m,\u001b[0m \u001b[0;34m**\u001b[0m\u001b[0mkwds\u001b[0m\u001b[0;34m)\u001b[0m\u001b[0;34m\u001b[0m\u001b[0;34m\u001b[0m\u001b[0m\n\u001b[0m\u001b[1;32m    483\u001b[0m \u001b[0;34m\u001b[0m\u001b[0m\n\u001b[1;32m    484\u001b[0m     \u001b[0;32mif\u001b[0m \u001b[0mchunksize\u001b[0m \u001b[0;32mor\u001b[0m \u001b[0miterator\u001b[0m\u001b[0;34m:\u001b[0m\u001b[0;34m\u001b[0m\u001b[0;34m\u001b[0m\u001b[0m\n",
            "\u001b[0;32m/usr/local/lib/python3.7/dist-packages/pandas/io/parsers/readers.py\u001b[0m in \u001b[0;36m__init__\u001b[0;34m(self, f, engine, **kwds)\u001b[0m\n\u001b[1;32m    809\u001b[0m             \u001b[0mself\u001b[0m\u001b[0;34m.\u001b[0m\u001b[0moptions\u001b[0m\u001b[0;34m[\u001b[0m\u001b[0;34m\"has_index_names\"\u001b[0m\u001b[0;34m]\u001b[0m \u001b[0;34m=\u001b[0m \u001b[0mkwds\u001b[0m\u001b[0;34m[\u001b[0m\u001b[0;34m\"has_index_names\"\u001b[0m\u001b[0;34m]\u001b[0m\u001b[0;34m\u001b[0m\u001b[0;34m\u001b[0m\u001b[0m\n\u001b[1;32m    810\u001b[0m \u001b[0;34m\u001b[0m\u001b[0m\n\u001b[0;32m--> 811\u001b[0;31m         \u001b[0mself\u001b[0m\u001b[0;34m.\u001b[0m\u001b[0m_engine\u001b[0m \u001b[0;34m=\u001b[0m \u001b[0mself\u001b[0m\u001b[0;34m.\u001b[0m\u001b[0m_make_engine\u001b[0m\u001b[0;34m(\u001b[0m\u001b[0mself\u001b[0m\u001b[0;34m.\u001b[0m\u001b[0mengine\u001b[0m\u001b[0;34m)\u001b[0m\u001b[0;34m\u001b[0m\u001b[0;34m\u001b[0m\u001b[0m\n\u001b[0m\u001b[1;32m    812\u001b[0m \u001b[0;34m\u001b[0m\u001b[0m\n\u001b[1;32m    813\u001b[0m     \u001b[0;32mdef\u001b[0m \u001b[0mclose\u001b[0m\u001b[0;34m(\u001b[0m\u001b[0mself\u001b[0m\u001b[0;34m)\u001b[0m\u001b[0;34m:\u001b[0m\u001b[0;34m\u001b[0m\u001b[0;34m\u001b[0m\u001b[0m\n",
            "\u001b[0;32m/usr/local/lib/python3.7/dist-packages/pandas/io/parsers/readers.py\u001b[0m in \u001b[0;36m_make_engine\u001b[0;34m(self, engine)\u001b[0m\n\u001b[1;32m   1038\u001b[0m             )\n\u001b[1;32m   1039\u001b[0m         \u001b[0;31m# error: Too many arguments for \"ParserBase\"\u001b[0m\u001b[0;34m\u001b[0m\u001b[0;34m\u001b[0m\u001b[0;34m\u001b[0m\u001b[0m\n\u001b[0;32m-> 1040\u001b[0;31m         \u001b[0;32mreturn\u001b[0m \u001b[0mmapping\u001b[0m\u001b[0;34m[\u001b[0m\u001b[0mengine\u001b[0m\u001b[0;34m]\u001b[0m\u001b[0;34m(\u001b[0m\u001b[0mself\u001b[0m\u001b[0;34m.\u001b[0m\u001b[0mf\u001b[0m\u001b[0;34m,\u001b[0m \u001b[0;34m**\u001b[0m\u001b[0mself\u001b[0m\u001b[0;34m.\u001b[0m\u001b[0moptions\u001b[0m\u001b[0;34m)\u001b[0m  \u001b[0;31m# type: ignore[call-arg]\u001b[0m\u001b[0;34m\u001b[0m\u001b[0;34m\u001b[0m\u001b[0m\n\u001b[0m\u001b[1;32m   1041\u001b[0m \u001b[0;34m\u001b[0m\u001b[0m\n\u001b[1;32m   1042\u001b[0m     \u001b[0;32mdef\u001b[0m \u001b[0m_failover_to_python\u001b[0m\u001b[0;34m(\u001b[0m\u001b[0mself\u001b[0m\u001b[0;34m)\u001b[0m\u001b[0;34m:\u001b[0m\u001b[0;34m\u001b[0m\u001b[0;34m\u001b[0m\u001b[0m\n",
            "\u001b[0;32m/usr/local/lib/python3.7/dist-packages/pandas/io/parsers/c_parser_wrapper.py\u001b[0m in \u001b[0;36m__init__\u001b[0;34m(self, src, **kwds)\u001b[0m\n\u001b[1;32m     49\u001b[0m \u001b[0;34m\u001b[0m\u001b[0m\n\u001b[1;32m     50\u001b[0m         \u001b[0;31m# open handles\u001b[0m\u001b[0;34m\u001b[0m\u001b[0;34m\u001b[0m\u001b[0;34m\u001b[0m\u001b[0m\n\u001b[0;32m---> 51\u001b[0;31m         \u001b[0mself\u001b[0m\u001b[0;34m.\u001b[0m\u001b[0m_open_handles\u001b[0m\u001b[0;34m(\u001b[0m\u001b[0msrc\u001b[0m\u001b[0;34m,\u001b[0m \u001b[0mkwds\u001b[0m\u001b[0;34m)\u001b[0m\u001b[0;34m\u001b[0m\u001b[0;34m\u001b[0m\u001b[0m\n\u001b[0m\u001b[1;32m     52\u001b[0m         \u001b[0;32massert\u001b[0m \u001b[0mself\u001b[0m\u001b[0;34m.\u001b[0m\u001b[0mhandles\u001b[0m \u001b[0;32mis\u001b[0m \u001b[0;32mnot\u001b[0m \u001b[0;32mNone\u001b[0m\u001b[0;34m\u001b[0m\u001b[0;34m\u001b[0m\u001b[0m\n\u001b[1;32m     53\u001b[0m \u001b[0;34m\u001b[0m\u001b[0m\n",
            "\u001b[0;32m/usr/local/lib/python3.7/dist-packages/pandas/io/parsers/base_parser.py\u001b[0m in \u001b[0;36m_open_handles\u001b[0;34m(self, src, kwds)\u001b[0m\n\u001b[1;32m    227\u001b[0m             \u001b[0mmemory_map\u001b[0m\u001b[0;34m=\u001b[0m\u001b[0mkwds\u001b[0m\u001b[0;34m.\u001b[0m\u001b[0mget\u001b[0m\u001b[0;34m(\u001b[0m\u001b[0;34m\"memory_map\"\u001b[0m\u001b[0;34m,\u001b[0m \u001b[0;32mFalse\u001b[0m\u001b[0;34m)\u001b[0m\u001b[0;34m,\u001b[0m\u001b[0;34m\u001b[0m\u001b[0;34m\u001b[0m\u001b[0m\n\u001b[1;32m    228\u001b[0m             \u001b[0mstorage_options\u001b[0m\u001b[0;34m=\u001b[0m\u001b[0mkwds\u001b[0m\u001b[0;34m.\u001b[0m\u001b[0mget\u001b[0m\u001b[0;34m(\u001b[0m\u001b[0;34m\"storage_options\"\u001b[0m\u001b[0;34m,\u001b[0m \u001b[0;32mNone\u001b[0m\u001b[0;34m)\u001b[0m\u001b[0;34m,\u001b[0m\u001b[0;34m\u001b[0m\u001b[0;34m\u001b[0m\u001b[0m\n\u001b[0;32m--> 229\u001b[0;31m             \u001b[0merrors\u001b[0m\u001b[0;34m=\u001b[0m\u001b[0mkwds\u001b[0m\u001b[0;34m.\u001b[0m\u001b[0mget\u001b[0m\u001b[0;34m(\u001b[0m\u001b[0;34m\"encoding_errors\"\u001b[0m\u001b[0;34m,\u001b[0m \u001b[0;34m\"strict\"\u001b[0m\u001b[0;34m)\u001b[0m\u001b[0;34m,\u001b[0m\u001b[0;34m\u001b[0m\u001b[0;34m\u001b[0m\u001b[0m\n\u001b[0m\u001b[1;32m    230\u001b[0m         )\n\u001b[1;32m    231\u001b[0m \u001b[0;34m\u001b[0m\u001b[0m\n",
            "\u001b[0;32m/usr/local/lib/python3.7/dist-packages/pandas/io/common.py\u001b[0m in \u001b[0;36mget_handle\u001b[0;34m(path_or_buf, mode, encoding, compression, memory_map, is_text, errors, storage_options)\u001b[0m\n\u001b[1;32m    705\u001b[0m                 \u001b[0mencoding\u001b[0m\u001b[0;34m=\u001b[0m\u001b[0mioargs\u001b[0m\u001b[0;34m.\u001b[0m\u001b[0mencoding\u001b[0m\u001b[0;34m,\u001b[0m\u001b[0;34m\u001b[0m\u001b[0;34m\u001b[0m\u001b[0m\n\u001b[1;32m    706\u001b[0m                 \u001b[0merrors\u001b[0m\u001b[0;34m=\u001b[0m\u001b[0merrors\u001b[0m\u001b[0;34m,\u001b[0m\u001b[0;34m\u001b[0m\u001b[0;34m\u001b[0m\u001b[0m\n\u001b[0;32m--> 707\u001b[0;31m                 \u001b[0mnewline\u001b[0m\u001b[0;34m=\u001b[0m\u001b[0;34m\"\"\u001b[0m\u001b[0;34m,\u001b[0m\u001b[0;34m\u001b[0m\u001b[0;34m\u001b[0m\u001b[0m\n\u001b[0m\u001b[1;32m    708\u001b[0m             )\n\u001b[1;32m    709\u001b[0m         \u001b[0;32melse\u001b[0m\u001b[0;34m:\u001b[0m\u001b[0;34m\u001b[0m\u001b[0;34m\u001b[0m\u001b[0m\n",
            "\u001b[0;31mFileNotFoundError\u001b[0m: [Errno 2] No such file or directory: '/content/drive/MyDrive/GP/dataset/data/test.csv'"
          ]
        }
      ]
    }
  ]
}